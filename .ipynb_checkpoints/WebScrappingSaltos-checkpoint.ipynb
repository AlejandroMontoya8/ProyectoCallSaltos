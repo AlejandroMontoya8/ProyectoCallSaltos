{
 "cells": [
  {
   "cell_type": "code",
   "execution_count": 11,
   "id": "b20a8a93",
   "metadata": {},
   "outputs": [],
   "source": [
    "from selenium import webdriver\n",
    "from selenium.webdriver.common.keys import Keys\n",
    "from selenium.common.exceptions import TimeoutException\n",
    "from selenium.webdriver.support.ui import WebDriverWait\n",
    "from selenium.webdriver.support import expected_conditions as EC\n",
    "from selenium.webdriver.chrome.options import Options\n",
    "from selenium.webdriver.common.by import By\n",
    "import time\n",
    "import os\n",
    "from datetime import date\n",
    "import random\n",
    "\n",
    "def descargar_archivosCiclo(username, password, query, rows, timeout, ruta_descarga, url, mostrar)->None:\n",
    "    options = Options() \n",
    "    options.headless = mostrar\n",
    "    options.add_experimental_option('prefs',  {\n",
    "        \"download.default_directory\": ruta_descarga,\n",
    "        \"download.prompt_for_download\": False,\n",
    "        \"download.directory_upgrade\": True,\n",
    "    })\n",
    "    # Inicia sesión en Chrome\n",
    "    driver = webdriver.Chrome(chrome_options=options)\n",
    "    driver.implicitly_wait(30)\n",
    "\n",
    "    # Acceder a la aplicación web\n",
    "    driver.get(url)\n",
    "    wait = WebDriverWait(driver,100)\n",
    "    # Username\n",
    "    search_username = driver.find_element(\"xpath\",\"/html/body/div[2]/form[1]/div[1]/div/span/input\")\n",
    "    search_username.clear()\n",
    "    search_username.send_keys(username)\n",
    "    # Password\n",
    "    search_pass = driver.find_element(\"xpath\",\"/html/body/div[2]/form[1]/div[1]/div/span/span[1]/input\")\n",
    "    search_pass.clear()\n",
    "    search_pass.send_keys(password)\n",
    "    # Query\n",
    "    search_query = driver.find_element(\"xpath\",\"/html/body/div[2]/form[1]/table/tbody/tr[2]/td/textarea\")\n",
    "    search_query.clear()\n",
    "    search_query.send_keys(query)\n",
    "    # Rows\n",
    "    search_rows = driver.find_element(\"xpath\",\"/html/body/div[2]/form[1]/table/tbody/tr[3]/td/input[2]\")\n",
    "    search_rows.clear()\n",
    "    search_rows.send_keys(rows)\n",
    "    # RunSQL\n",
    "    search_run = driver.find_element(\"xpath\",\"/html/body/div[2]/form[1]/table/tbody/tr[3]/td/button\")\n",
    "    search_run.click()\n",
    "\n",
    "    \n",
    "    search_download = wait.until(EC.element_to_be_clickable((By.ID,\"exportButton\")))\n",
    "    search_download.click()\n",
    "    time.sleep(5)\n",
    "    \n",
    "\n",
    "    \n",
    "    button1_name = driver.find_element(By.XPATH,\"/html/body/div[2]/form[2]/div/div[2]/button[1]\").get_attribute(\"name\")\n",
    "                                                   \n",
    "    if button1_name == \"btnNext\":\n",
    "        search_next = driver.find_element(\"xpath\",\"/html/body/div[2]/form[2]/div/div[2]/button[1]\")\n",
    "        search_next.click()\n",
    "        \n",
    "        espera=wait.until(EC.invisibility_of_element((By.ID,\"loader\")))\n",
    "        search_download = wait.until(EC.visibility_of_element_located((By.ID,\"exportButton\")))\n",
    "        search_download.click()\n",
    "        time.sleep(5)\n",
    "        button1_name = driver.find_element(By.XPATH,\"/html/body/div[2]/form[2]/div/div[2]/button[1]\").get_attribute(\"name\")\n",
    "        button2_name = driver.find_element(By.XPATH,\"/html/body/div[2]/form[2]/div/div[2]/button[2]\").get_attribute(\"name\")\n",
    "        \n",
    "        while button2_name == \"btnNext\": \n",
    "            search_next = driver.find_element(\"xpath\",\"/html/body/div[2]/form[2]/div/div[2]/button[2]\")\n",
    "            search_next.click()\n",
    "            espera =wait.until(EC.invisibility_of_element((By.ID,\"loader\")))\n",
    "            search_download = wait.until(EC.visibility_of_element_located((By.ID,\"exportButton\")))\n",
    "            search_download.click()\n",
    "            time.sleep(5)\n",
    "            button2_name = driver.find_element(By.XPATH,\"/html/body/div[2]/form[2]/div/div[2]/button[2]\").get_attribute(\"name\")\n",
    "   \n",
    "    # Cerrar la ventana del navegador\n",
    "        driver.quit()\n",
    "        \n",
    "    else: \n",
    "        driver.quit()"
   ]
  },
  {
   "cell_type": "code",
   "execution_count": null,
   "id": "8867ece6",
   "metadata": {},
   "outputs": [
    {
     "name": "stderr",
     "output_type": "stream",
     "text": [
      "C:\\Users\\luis.montoya\\AppData\\Local\\Temp\\ipykernel_7232\\3383525831.py:22: DeprecationWarning: use options instead of chrome_options\n",
      "  driver = webdriver.Chrome(chrome_options=options)\n"
     ]
    }
   ],
   "source": [
    "username = \"montoya.luis_admin\"\n",
    "password = \"nbdU*6vB!X\"\n",
    "rows = \"10000\"\n",
    "timeout = 500\n",
    "url = \"https://prod.socoomni.com/smcfs/yfshttpdbi/sterlingdbqueryclient.jsp\"\n",
    "ruta_descarga = r\"C:\\Users\\luis.montoya\\Documents\\GitHub\\ProyectoCallSaltos\\DescargaInicial\"\n",
    "mostrar = False\n",
    "\n",
    "\n",
    "archivo = open('QuerySaltosCall2.txt','r')\n",
    "query = archivo.read()\n",
    "now=date.today()\n",
    "year = now.year\n",
    "mes=now.month\n",
    "dia=now.day\n",
    "dia = str(dia)\n",
    "mes=str(mes)\n",
    "year = str(year)\n",
    "dict_mes={\"1\":\"Enero\",\"2\":\"Febrero\",\"3\":\"Marzo\",\"4\":\"Abril\",\"5\":\"Mayo\",\"6\":\"Junio\",\"7\":\"Julio\",\"8\":\"Agosto\",\"9\":\"Septiembre\",\"10\":\"Octubre\",\"11\":\"Noviembre\",\"12\":\"Diciembre\"}\n",
    "mes=dict_mes[mes]\n",
    "YearMesDia = year + mes + dia\n",
    "\n",
    "for the_file in os.listdir(r\"C:\\Users\\luis.montoya\\Documents\\GitHub\\ProyectoCallSaltos\\FuenteDatos\"):\n",
    "    file_path= os.path.join(r\"C:\\Users\\luis.montoya\\Documents\\GitHub\\ProyectoCallSaltos\\FuenteDatos\",the_file)\n",
    "    os.unlink(file_path)\n",
    "    \n",
    "descargar_archivosCiclo(username, password, query, rows, timeout, ruta_descarga, url, mostrar)\n",
    "\n",
    "contador = 1\n",
    "for the_file in os.listdir(r\"C:\\Users\\luis.montoya\\Documents\\GitHub\\ProyectoCallSaltos\\DescargaInicial\"):\n",
    "        try: \n",
    "            nombre_actual = os.path.join(r\"C:\\Users\\luis.montoya\\Documents\\GitHub\\ProyectoCallSaltos\\DescargaInicial\", the_file) \n",
    "            nombre_nuevo = os.path.join(r\"C:\\Users\\luis.montoya\\Documents\\GitHub\\ProyectoCallSaltos\\FuenteDatos\",mes +' ' +year + '(' + str(contador) + ')' +'.csv')\n",
    "            os.rename(nombre_actual, nombre_nuevo)\n",
    "            contador = contador + 1\n",
    "        except TimeoutException:\n",
    "            print(\"Se ha producido un error al renombrar el archivo : \"+ nombre_query)\n",
    "            \n",
    "print(\"Proceso Finalizado\")"
   ]
  },
  {
   "cell_type": "code",
   "execution_count": 12,
   "id": "c2652de7",
   "metadata": {},
   "outputs": [
    {
     "ename": "ImportError",
     "evalue": "Failed to initialize: Bad git executable.\nThe git executable must be specified in one of the following ways:\n    - be included in your $PATH\n    - be set via $GIT_PYTHON_GIT_EXECUTABLE\n    - explicitly set via git.refresh()\n\nAll git commands will error until this is rectified.\n\nThis initial warning can be silenced or aggravated in the future by setting the\n$GIT_PYTHON_REFRESH environment variable. Use one of the following values:\n    - quiet|q|silence|s|none|n|0: for no warning or exception\n    - warn|w|warning|1: for a printed warning\n    - error|e|raise|r|2: for a raised exception\n\nExample:\n    export GIT_PYTHON_REFRESH=quiet\n",
     "output_type": "error",
     "traceback": [
      "\u001b[1;31m---------------------------------------------------------------------------\u001b[0m",
      "\u001b[1;31mImportError\u001b[0m                               Traceback (most recent call last)",
      "File \u001b[1;32m~\\Anaconda3\\lib\\site-packages\\git\\__init__.py:89\u001b[0m, in \u001b[0;36m<module>\u001b[1;34m\u001b[0m\n\u001b[0;32m     88\u001b[0m \u001b[38;5;28;01mtry\u001b[39;00m:\n\u001b[1;32m---> 89\u001b[0m     \u001b[43mrefresh\u001b[49m\u001b[43m(\u001b[49m\u001b[43m)\u001b[49m\n\u001b[0;32m     90\u001b[0m \u001b[38;5;28;01mexcept\u001b[39;00m \u001b[38;5;167;01mException\u001b[39;00m \u001b[38;5;28;01mas\u001b[39;00m exc:\n",
      "File \u001b[1;32m~\\Anaconda3\\lib\\site-packages\\git\\__init__.py:76\u001b[0m, in \u001b[0;36mrefresh\u001b[1;34m(path)\u001b[0m\n\u001b[0;32m     74\u001b[0m GIT_OK \u001b[38;5;241m=\u001b[39m \u001b[38;5;28;01mFalse\u001b[39;00m\n\u001b[1;32m---> 76\u001b[0m \u001b[38;5;28;01mif\u001b[39;00m \u001b[38;5;129;01mnot\u001b[39;00m \u001b[43mGit\u001b[49m\u001b[38;5;241;43m.\u001b[39;49m\u001b[43mrefresh\u001b[49m\u001b[43m(\u001b[49m\u001b[43mpath\u001b[49m\u001b[38;5;241;43m=\u001b[39;49m\u001b[43mpath\u001b[49m\u001b[43m)\u001b[49m:\n\u001b[0;32m     77\u001b[0m     \u001b[38;5;28;01mreturn\u001b[39;00m\n",
      "File \u001b[1;32m~\\Anaconda3\\lib\\site-packages\\git\\cmd.py:392\u001b[0m, in \u001b[0;36mGit.refresh\u001b[1;34m(cls, path)\u001b[0m\n\u001b[0;32m    391\u001b[0m     \u001b[38;5;28;01melse\u001b[39;00m:\n\u001b[1;32m--> 392\u001b[0m         \u001b[38;5;28;01mraise\u001b[39;00m \u001b[38;5;167;01mImportError\u001b[39;00m(err)\n\u001b[0;32m    393\u001b[0m \u001b[38;5;28;01melse\u001b[39;00m:\n",
      "\u001b[1;31mImportError\u001b[0m: Bad git executable.\nThe git executable must be specified in one of the following ways:\n    - be included in your $PATH\n    - be set via $GIT_PYTHON_GIT_EXECUTABLE\n    - explicitly set via git.refresh()\n\nAll git commands will error until this is rectified.\n\nThis initial warning can be silenced or aggravated in the future by setting the\n$GIT_PYTHON_REFRESH environment variable. Use one of the following values:\n    - quiet|q|silence|s|none|n|0: for no warning or exception\n    - warn|w|warning|1: for a printed warning\n    - error|e|raise|r|2: for a raised exception\n\nExample:\n    export GIT_PYTHON_REFRESH=quiet\n",
      "\nThe above exception was the direct cause of the following exception:\n",
      "\u001b[1;31mImportError\u001b[0m                               Traceback (most recent call last)",
      "Input \u001b[1;32mIn [12]\u001b[0m, in \u001b[0;36m<cell line: 1>\u001b[1;34m()\u001b[0m\n\u001b[1;32m----> 1\u001b[0m \u001b[38;5;28;01mfrom\u001b[39;00m \u001b[38;5;21;01mgit\u001b[39;00m \u001b[38;5;28;01mimport\u001b[39;00m Repo\n",
      "File \u001b[1;32m~\\Anaconda3\\lib\\site-packages\\git\\__init__.py:91\u001b[0m, in \u001b[0;36m<module>\u001b[1;34m\u001b[0m\n\u001b[0;32m     89\u001b[0m     refresh()\n\u001b[0;32m     90\u001b[0m \u001b[38;5;28;01mexcept\u001b[39;00m \u001b[38;5;167;01mException\u001b[39;00m \u001b[38;5;28;01mas\u001b[39;00m exc:\n\u001b[1;32m---> 91\u001b[0m     \u001b[38;5;28;01mraise\u001b[39;00m \u001b[38;5;167;01mImportError\u001b[39;00m(\u001b[38;5;124m\"\u001b[39m\u001b[38;5;124mFailed to initialize: \u001b[39m\u001b[38;5;132;01m{0}\u001b[39;00m\u001b[38;5;124m\"\u001b[39m\u001b[38;5;241m.\u001b[39mformat(exc)) \u001b[38;5;28;01mfrom\u001b[39;00m \u001b[38;5;21;01mexc\u001b[39;00m\n",
      "\u001b[1;31mImportError\u001b[0m: Failed to initialize: Bad git executable.\nThe git executable must be specified in one of the following ways:\n    - be included in your $PATH\n    - be set via $GIT_PYTHON_GIT_EXECUTABLE\n    - explicitly set via git.refresh()\n\nAll git commands will error until this is rectified.\n\nThis initial warning can be silenced or aggravated in the future by setting the\n$GIT_PYTHON_REFRESH environment variable. Use one of the following values:\n    - quiet|q|silence|s|none|n|0: for no warning or exception\n    - warn|w|warning|1: for a printed warning\n    - error|e|raise|r|2: for a raised exception\n\nExample:\n    export GIT_PYTHON_REFRESH=quiet\n"
     ]
    }
   ],
   "source": [
    "from git import Repo"
   ]
  },
  {
   "cell_type": "code",
   "execution_count": 13,
   "id": "aaeb6b96",
   "metadata": {},
   "outputs": [
    {
     "ename": "ImportError",
     "evalue": "Failed to initialize: Bad git executable.\nThe git executable must be specified in one of the following ways:\n    - be included in your $PATH\n    - be set via $GIT_PYTHON_GIT_EXECUTABLE\n    - explicitly set via git.refresh()\n\nAll git commands will error until this is rectified.\n\nThis initial warning can be silenced or aggravated in the future by setting the\n$GIT_PYTHON_REFRESH environment variable. Use one of the following values:\n    - quiet|q|silence|s|none|n|0: for no warning or exception\n    - warn|w|warning|1: for a printed warning\n    - error|e|raise|r|2: for a raised exception\n\nExample:\n    export GIT_PYTHON_REFRESH=quiet\n",
     "output_type": "error",
     "traceback": [
      "\u001b[1;31m---------------------------------------------------------------------------\u001b[0m",
      "\u001b[1;31mImportError\u001b[0m                               Traceback (most recent call last)",
      "File \u001b[1;32m~\\Anaconda3\\lib\\site-packages\\git\\__init__.py:89\u001b[0m, in \u001b[0;36m<module>\u001b[1;34m\u001b[0m\n\u001b[0;32m     88\u001b[0m \u001b[38;5;28;01mtry\u001b[39;00m:\n\u001b[1;32m---> 89\u001b[0m     \u001b[43mrefresh\u001b[49m\u001b[43m(\u001b[49m\u001b[43m)\u001b[49m\n\u001b[0;32m     90\u001b[0m \u001b[38;5;28;01mexcept\u001b[39;00m \u001b[38;5;167;01mException\u001b[39;00m \u001b[38;5;28;01mas\u001b[39;00m exc:\n",
      "File \u001b[1;32m~\\Anaconda3\\lib\\site-packages\\git\\__init__.py:76\u001b[0m, in \u001b[0;36mrefresh\u001b[1;34m(path)\u001b[0m\n\u001b[0;32m     74\u001b[0m GIT_OK \u001b[38;5;241m=\u001b[39m \u001b[38;5;28;01mFalse\u001b[39;00m\n\u001b[1;32m---> 76\u001b[0m \u001b[38;5;28;01mif\u001b[39;00m \u001b[38;5;129;01mnot\u001b[39;00m \u001b[43mGit\u001b[49m\u001b[38;5;241;43m.\u001b[39;49m\u001b[43mrefresh\u001b[49m\u001b[43m(\u001b[49m\u001b[43mpath\u001b[49m\u001b[38;5;241;43m=\u001b[39;49m\u001b[43mpath\u001b[49m\u001b[43m)\u001b[49m:\n\u001b[0;32m     77\u001b[0m     \u001b[38;5;28;01mreturn\u001b[39;00m\n",
      "File \u001b[1;32m~\\Anaconda3\\lib\\site-packages\\git\\cmd.py:392\u001b[0m, in \u001b[0;36mGit.refresh\u001b[1;34m(cls, path)\u001b[0m\n\u001b[0;32m    391\u001b[0m     \u001b[38;5;28;01melse\u001b[39;00m:\n\u001b[1;32m--> 392\u001b[0m         \u001b[38;5;28;01mraise\u001b[39;00m \u001b[38;5;167;01mImportError\u001b[39;00m(err)\n\u001b[0;32m    393\u001b[0m \u001b[38;5;28;01melse\u001b[39;00m:\n",
      "\u001b[1;31mImportError\u001b[0m: Bad git executable.\nThe git executable must be specified in one of the following ways:\n    - be included in your $PATH\n    - be set via $GIT_PYTHON_GIT_EXECUTABLE\n    - explicitly set via git.refresh()\n\nAll git commands will error until this is rectified.\n\nThis initial warning can be silenced or aggravated in the future by setting the\n$GIT_PYTHON_REFRESH environment variable. Use one of the following values:\n    - quiet|q|silence|s|none|n|0: for no warning or exception\n    - warn|w|warning|1: for a printed warning\n    - error|e|raise|r|2: for a raised exception\n\nExample:\n    export GIT_PYTHON_REFRESH=quiet\n",
      "\nThe above exception was the direct cause of the following exception:\n",
      "\u001b[1;31mImportError\u001b[0m                               Traceback (most recent call last)",
      "Input \u001b[1;32mIn [13]\u001b[0m, in \u001b[0;36m<cell line: 1>\u001b[1;34m()\u001b[0m\n\u001b[1;32m----> 1\u001b[0m \u001b[38;5;28;01mfrom\u001b[39;00m \u001b[38;5;21;01mgit\u001b[39;00m \u001b[38;5;28;01mimport\u001b[39;00m Repo\n",
      "File \u001b[1;32m~\\Anaconda3\\lib\\site-packages\\git\\__init__.py:91\u001b[0m, in \u001b[0;36m<module>\u001b[1;34m\u001b[0m\n\u001b[0;32m     89\u001b[0m     refresh()\n\u001b[0;32m     90\u001b[0m \u001b[38;5;28;01mexcept\u001b[39;00m \u001b[38;5;167;01mException\u001b[39;00m \u001b[38;5;28;01mas\u001b[39;00m exc:\n\u001b[1;32m---> 91\u001b[0m     \u001b[38;5;28;01mraise\u001b[39;00m \u001b[38;5;167;01mImportError\u001b[39;00m(\u001b[38;5;124m\"\u001b[39m\u001b[38;5;124mFailed to initialize: \u001b[39m\u001b[38;5;132;01m{0}\u001b[39;00m\u001b[38;5;124m\"\u001b[39m\u001b[38;5;241m.\u001b[39mformat(exc)) \u001b[38;5;28;01mfrom\u001b[39;00m \u001b[38;5;21;01mexc\u001b[39;00m\n",
      "\u001b[1;31mImportError\u001b[0m: Failed to initialize: Bad git executable.\nThe git executable must be specified in one of the following ways:\n    - be included in your $PATH\n    - be set via $GIT_PYTHON_GIT_EXECUTABLE\n    - explicitly set via git.refresh()\n\nAll git commands will error until this is rectified.\n\nThis initial warning can be silenced or aggravated in the future by setting the\n$GIT_PYTHON_REFRESH environment variable. Use one of the following values:\n    - quiet|q|silence|s|none|n|0: for no warning or exception\n    - warn|w|warning|1: for a printed warning\n    - error|e|raise|r|2: for a raised exception\n\nExample:\n    export GIT_PYTHON_REFRESH=quiet\n"
     ]
    }
   ],
   "source": [
    "from git import Repo"
   ]
  },
  {
   "cell_type": "raw",
   "id": "34fad2ef",
   "metadata": {},
   "source": []
  }
 ],
 "metadata": {
  "kernelspec": {
   "display_name": "Python 3 (ipykernel)",
   "language": "python",
   "name": "python3"
  },
  "language_info": {
   "codemirror_mode": {
    "name": "ipython",
    "version": 3
   },
   "file_extension": ".py",
   "mimetype": "text/x-python",
   "name": "python",
   "nbconvert_exporter": "python",
   "pygments_lexer": "ipython3",
   "version": "3.9.12"
  }
 },
 "nbformat": 4,
 "nbformat_minor": 5
}
